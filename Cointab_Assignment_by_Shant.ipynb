{
  "nbformat": 4,
  "nbformat_minor": 0,
  "metadata": {
    "colab": {
      "provenance": []
    },
    "kernelspec": {
      "name": "python3",
      "display_name": "Python 3"
    },
    "language_info": {
      "name": "python"
    }
  },
  "cells": [
    {
      "cell_type": "markdown",
      "source": [
        "# **Cointab Software Private Limited**\n",
        "\n",
        "# *Data Analyst - Assignment*"
      ],
      "metadata": {
        "id": "k02i_BeoxVRv"
      }
    },
    {
      "cell_type": "markdown",
      "source": [
        "# Import Libraries and read **files**"
      ],
      "metadata": {
        "id": "4d3nfvIu5ZAo"
      }
    },
    {
      "cell_type": "code",
      "source": [
        "import math\n",
        "import numpy as np\n",
        "import pandas as pd\n",
        "order_report = pd.read_excel(\"/content/Company X - Order Report.xlsx\")\n",
        "pin_zone = pd.read_excel(\"/content/Company X - Pincode Zones.xlsx\")\n",
        "sku = pd.read_excel(\"/content/Company X - SKU Master.xlsx\")\n",
        "invoice = pd.read_excel(\"/content/Courier Company - Invoice.xlsx\")\n",
        "rates = pd.read_excel(\"/content/Courier Company - Rates.xlsx\")"
      ],
      "metadata": {
        "id": "IDhN1ahpxSMy"
      },
      "execution_count": 144,
      "outputs": []
    },
    {
      "cell_type": "markdown",
      "source": [
        "# **Missing Values**"
      ],
      "metadata": {
        "id": "M-mO3tqa5lEl"
      }
    },
    {
      "cell_type": "code",
      "source": [
        "print(\"Missing Values in order Report are :\\n\",order_report.isna().sum())\n",
        "print(\"Missing Values in Pincode are :\\n\",pin_zone.isna().sum())\n",
        "print(\"Missing Values in SKU are :\\n\",sku.isna().sum())\n",
        "print(\"Missing Values in Invoice are :\\n\",invoice.isna().sum())\n",
        "print(\"Missing Values in Rates are :\\n\",rates.isna().sum())"
      ],
      "metadata": {
        "colab": {
          "base_uri": "https://localhost:8080/"
        },
        "id": "uGaV631fzwPb",
        "outputId": "49d27564-95f5-447a-e31f-f70bb1b0bb75"
      },
      "execution_count": 145,
      "outputs": [
        {
          "output_type": "stream",
          "name": "stdout",
          "text": [
            "Missing Values in order Report are :\n",
            " ExternOrderNo    0\n",
            "SKU              0\n",
            "Order Qty        0\n",
            "dtype: int64\n",
            "Missing Values in Pincode are :\n",
            " Warehouse Pincode    0\n",
            "Customer Pincode     0\n",
            "Zone                 0\n",
            "dtype: int64\n",
            "Missing Values in SKU are :\n",
            " SKU           0\n",
            "Weight (g)    0\n",
            "dtype: int64\n",
            "Missing Values in Invoice are :\n",
            " AWB Code                0\n",
            "Order ID                0\n",
            "Charged Weight          0\n",
            "Warehouse Pincode       0\n",
            "Customer Pincode        0\n",
            "Zone                    0\n",
            "Type of Shipment        0\n",
            "Billing Amount (Rs.)    0\n",
            "dtype: int64\n",
            "Missing Values in Rates are :\n",
            " Zone                                     0\n",
            "Weight Slabs                             0\n",
            "Forward Fixed Charge                     0\n",
            "Forward Additional Weight Slab Charge    0\n",
            "RTO Fixed Charge                         0\n",
            "RTO Additional Weight Slab Charge        0\n",
            "dtype: int64\n"
          ]
        }
      ]
    },
    {
      "cell_type": "markdown",
      "source": [
        "#Duplicate Value"
      ],
      "metadata": {
        "id": "EpT58iVv5_sW"
      }
    },
    {
      "cell_type": "code",
      "source": [
        "print(\"Number of duplicate rows in order Report is :\",order_report.duplicated().sum())\n",
        "print(\"Number of duplicate rows in Pincode is :\",pin_zone.duplicated().sum())\n",
        "print(\"Number of duplicate rows in SKU is :\",sku.duplicated().sum())\n",
        "print(\"Number of duplicate rows in Invoice is :\",invoice.duplicated().sum())\n",
        "print(\"Number of duplicate rows in Rates is :\",rates.duplicated().sum())"
      ],
      "metadata": {
        "colab": {
          "base_uri": "https://localhost:8080/"
        },
        "id": "UjxaW-Wqzxuv",
        "outputId": "12df2ac3-b1dd-4f4d-b134-e2cea3a24209"
      },
      "execution_count": 146,
      "outputs": [
        {
          "output_type": "stream",
          "name": "stdout",
          "text": [
            "Number of duplicate rows in order Report is : 2\n",
            "Number of duplicate rows in Pincode is : 16\n",
            "Number of duplicate rows in SKU is : 1\n",
            "Number of duplicate rows in Invoice is : 0\n",
            "Number of duplicate rows in Rates is : 0\n"
          ]
        }
      ]
    },
    {
      "cell_type": "markdown",
      "source": [
        "# **Drop** Duplicates"
      ],
      "metadata": {
        "id": "xrzbxzPi6N-0"
      }
    },
    {
      "cell_type": "code",
      "source": [
        "# Dropping duplicate rows\n",
        "order_report.drop_duplicates(inplace=True)\n",
        "sku.drop_duplicates(inplace=True)\n",
        "pin_zone.drop_duplicates(inplace=True)"
      ],
      "metadata": {
        "id": "-1K1o5kqzxsF"
      },
      "execution_count": 147,
      "outputs": []
    },
    {
      "cell_type": "markdown",
      "source": [
        "#Merge"
      ],
      "metadata": {
        "id": "yF4vaX4U_aw6"
      }
    },
    {
      "cell_type": "code",
      "source": [
        "# Add weight per item column to order report\n",
        "data = order_report.merge(sku,how='left',on='SKU')\n",
        "print(data)"
      ],
      "metadata": {
        "colab": {
          "base_uri": "https://localhost:8080/"
        },
        "id": "EkrVKgdkzxqC",
        "outputId": "3edddce6-3f11-4850-ffe5-684929118818"
      },
      "execution_count": 148,
      "outputs": [
        {
          "output_type": "stream",
          "name": "stdout",
          "text": [
            "     ExternOrderNo            SKU  Order Qty  Weight (g)\n",
            "0       2001827036  8904223818706        1.0         127\n",
            "1       2001827036  8904223819093        1.0         150\n",
            "2       2001827036  8904223819109        1.0         100\n",
            "3       2001827036  8904223818430        1.0         165\n",
            "4       2001827036  8904223819277        1.0         350\n",
            "..             ...            ...        ...         ...\n",
            "393     2001806229  8904223818942        1.0         133\n",
            "394     2001806229  8904223818850        1.0         240\n",
            "395     2001806226  8904223818850        2.0         240\n",
            "396     2001806210  8904223816214        1.0         120\n",
            "397     2001806210  8904223818874        1.0         100\n",
            "\n",
            "[398 rows x 4 columns]\n"
          ]
        }
      ]
    },
    {
      "cell_type": "markdown",
      "source": [
        "# total weight of item in KG"
      ],
      "metadata": {
        "id": "l3MFzs0eBJbQ"
      }
    },
    {
      "cell_type": "code",
      "source": [
        "data['Total_Weight_by_X(kg)'] = data['Weight (g)']*data['Order Qty']/1000\n",
        "print(data)"
      ],
      "metadata": {
        "colab": {
          "base_uri": "https://localhost:8080/"
        },
        "id": "LS-m4gGYzxmj",
        "outputId": "dae79108-7189-43fb-8fae-6540b8afb01a"
      },
      "execution_count": 149,
      "outputs": [
        {
          "output_type": "stream",
          "name": "stdout",
          "text": [
            "     ExternOrderNo            SKU  Order Qty  Weight (g)  \\\n",
            "0       2001827036  8904223818706        1.0         127   \n",
            "1       2001827036  8904223819093        1.0         150   \n",
            "2       2001827036  8904223819109        1.0         100   \n",
            "3       2001827036  8904223818430        1.0         165   \n",
            "4       2001827036  8904223819277        1.0         350   \n",
            "..             ...            ...        ...         ...   \n",
            "393     2001806229  8904223818942        1.0         133   \n",
            "394     2001806229  8904223818850        1.0         240   \n",
            "395     2001806226  8904223818850        2.0         240   \n",
            "396     2001806210  8904223816214        1.0         120   \n",
            "397     2001806210  8904223818874        1.0         100   \n",
            "\n",
            "     Total_Weight_by_X(kg)  \n",
            "0                    0.127  \n",
            "1                    0.150  \n",
            "2                    0.100  \n",
            "3                    0.165  \n",
            "4                    0.350  \n",
            "..                     ...  \n",
            "393                  0.133  \n",
            "394                  0.240  \n",
            "395                  0.480  \n",
            "396                  0.120  \n",
            "397                  0.100  \n",
            "\n",
            "[398 rows x 5 columns]\n"
          ]
        }
      ]
    },
    {
      "cell_type": "markdown",
      "source": [
        "# Drop unnecessary columns"
      ],
      "metadata": {
        "id": "Jec0xd8cBRNe"
      }
    },
    {
      "cell_type": "code",
      "source": [
        "\n",
        "data.drop(labels=['Order Qty','Weight (g)','SKU'],axis=1,inplace=True)\n",
        "print(data)"
      ],
      "metadata": {
        "colab": {
          "base_uri": "https://localhost:8080/"
        },
        "id": "5Dwf0fVv0JP1",
        "outputId": "1706b749-5209-4cce-f56c-aeb88a27762d"
      },
      "execution_count": 150,
      "outputs": [
        {
          "output_type": "stream",
          "name": "stdout",
          "text": [
            "     ExternOrderNo  Total_Weight_by_X(kg)\n",
            "0       2001827036                  0.127\n",
            "1       2001827036                  0.150\n",
            "2       2001827036                  0.100\n",
            "3       2001827036                  0.165\n",
            "4       2001827036                  0.350\n",
            "..             ...                    ...\n",
            "393     2001806229                  0.133\n",
            "394     2001806229                  0.240\n",
            "395     2001806226                  0.480\n",
            "396     2001806210                  0.120\n",
            "397     2001806210                  0.100\n",
            "\n",
            "[398 rows x 2 columns]\n"
          ]
        }
      ]
    },
    {
      "cell_type": "markdown",
      "source": [
        "# Total weight and Amount for each order"
      ],
      "metadata": {
        "id": "jakGu4WnBUDz"
      }
    },
    {
      "cell_type": "code",
      "source": [
        "\n",
        "data = data.groupby(by=['ExternOrderNo'],as_index=False).sum()\n",
        "data.shape"
      ],
      "metadata": {
        "colab": {
          "base_uri": "https://localhost:8080/"
        },
        "id": "16IiGtlUzxkS",
        "outputId": "bf989c58-3934-4b98-ad1f-9a30ea14e93d"
      },
      "execution_count": 151,
      "outputs": [
        {
          "output_type": "execute_result",
          "data": {
            "text/plain": [
              "(124, 2)"
            ]
          },
          "metadata": {},
          "execution_count": 151
        }
      ]
    },
    {
      "cell_type": "markdown",
      "source": [
        "# Lets merge invoice data"
      ],
      "metadata": {
        "id": "-OiJZDtZBZ3U"
      }
    },
    {
      "cell_type": "code",
      "source": [
        "\n",
        "data = data.merge(invoice,how='left',left_on='ExternOrderNo',right_on='Order ID')\n",
        "print(data)\n"
      ],
      "metadata": {
        "colab": {
          "base_uri": "https://localhost:8080/"
        },
        "id": "jcnJ44JkzxgV",
        "outputId": "95661727-fbd9-4671-f1f9-e5aff7a28a33"
      },
      "execution_count": 152,
      "outputs": [
        {
          "output_type": "stream",
          "name": "stdout",
          "text": [
            "     ExternOrderNo  Total_Weight_by_X(kg)       AWB Code    Order ID  \\\n",
            "0       2001806210                  0.220  1091117221940  2001806210   \n",
            "1       2001806226                  0.480  1091117222065  2001806226   \n",
            "2       2001806229                  0.500  1091117222080  2001806229   \n",
            "3       2001806232                  1.302  1091117222124  2001806232   \n",
            "4       2001806233                  0.245  1091117222135  2001806233   \n",
            "..             ...                    ...            ...         ...   \n",
            "119     2001821995                  0.477  1091121183730  2001821995   \n",
            "120     2001822466                  1.376  1091121305541  2001822466   \n",
            "121     2001823564                  0.672  1091121666133  2001823564   \n",
            "122     2001825261                  1.557  1091121981575  2001825261   \n",
            "123     2001827036                  1.676  1091122418320  2001827036   \n",
            "\n",
            "     Charged Weight  Warehouse Pincode  Customer Pincode Zone  \\\n",
            "0              2.92             121003            140604    b   \n",
            "1              0.68             121003            723146    d   \n",
            "2              0.71             121003            421204    d   \n",
            "3              1.30             121003            507101    d   \n",
            "4              0.78             121003            263139    b   \n",
            "..              ...                ...               ...  ...   \n",
            "119            0.50             121003            342008    d   \n",
            "120            1.10             121003            342301    d   \n",
            "121            0.70             121003            492001    d   \n",
            "122            1.60             121003            517128    d   \n",
            "123            1.60             121003            173213    b   \n",
            "\n",
            "            Type of Shipment  Billing Amount (Rs.)  \n",
            "0            Forward charges                 174.5  \n",
            "1            Forward charges                  90.2  \n",
            "2            Forward charges                  90.2  \n",
            "3            Forward charges                 135.0  \n",
            "4            Forward charges                  61.3  \n",
            "..                       ...                   ...  \n",
            "119          Forward charges                  45.4  \n",
            "120          Forward charges                 135.0  \n",
            "121  Forward and RTO charges                 172.8  \n",
            "122  Forward and RTO charges                 345.0  \n",
            "123          Forward charges                 117.9  \n",
            "\n",
            "[124 rows x 10 columns]\n"
          ]
        }
      ]
    },
    {
      "cell_type": "markdown",
      "source": [
        "# merge invoice with pincode data\n",
        "# rename zone columns from invoice data as zone_by_courier and pincode as zone_by_X"
      ],
      "metadata": {
        "id": "7qvDOc2BBgP_"
      }
    },
    {
      "cell_type": "code",
      "source": [
        "\n",
        "data = data.merge(pin_zone,how='left',on=['Warehouse Pincode','Customer Pincode'])\n",
        "\n",
        "\n",
        "data = data.rename(columns={'Zone_x':'Zone_by_Courier','Zone_y':'Zone_by_X'})"
      ],
      "metadata": {
        "id": "FPJaXCRPzxeP"
      },
      "execution_count": 153,
      "outputs": []
    },
    {
      "cell_type": "code",
      "source": [
        "rates['Zone'].unique()"
      ],
      "metadata": {
        "colab": {
          "base_uri": "https://localhost:8080/"
        },
        "id": "Uc4s6UKGzxbM",
        "outputId": "ed42ef73-f665-4aba-e1aa-2158ed45a32b"
      },
      "execution_count": 154,
      "outputs": [
        {
          "output_type": "execute_result",
          "data": {
            "text/plain": [
              "array(['A', 'B', 'C', 'D', 'E'], dtype=object)"
            ]
          },
          "metadata": {},
          "execution_count": 154
        }
      ]
    },
    {
      "cell_type": "markdown",
      "source": [
        "# Convert Uppercase to lowercase"
      ],
      "metadata": {
        "id": "b94z1mpFBn0z"
      }
    },
    {
      "cell_type": "code",
      "source": [
        "\n",
        "rates['Zone'] = rates['Zone'].str.lower()"
      ],
      "metadata": {
        "id": "AyIprkxSzxYx"
      },
      "execution_count": 155,
      "outputs": []
    },
    {
      "cell_type": "code",
      "source": [
        "data = data.merge(rates,how='left',left_on='Zone_by_X',right_on='Zone')"
      ],
      "metadata": {
        "id": "-PJoUKrI2Zg2"
      },
      "execution_count": 156,
      "outputs": []
    },
    {
      "cell_type": "markdown",
      "source": [
        "# Forward additional charge"
      ],
      "metadata": {
        "id": "B29YJpKGBrCF"
      }
    },
    {
      "cell_type": "code",
      "source": [
        "\n",
        "data['Forward_additional_charge'] = (data['Total_Weight_by_X(kg)']/data['Weight Slabs']).astype(int)*data['Forward Additional Weight Slab Charge']"
      ],
      "metadata": {
        "id": "A6NtgBnH2ZdX"
      },
      "execution_count": 157,
      "outputs": []
    },
    {
      "cell_type": "markdown",
      "source": [
        "# Fixed RTO charges for forward and rto order"
      ],
      "metadata": {
        "id": "MFiEMIkrBuyQ"
      }
    },
    {
      "cell_type": "code",
      "source": [
        "\n",
        "def fixed_rto_charge(row):\n",
        "    if row['Type of Shipment'] == 'Forward and RTO charges':\n",
        "        return row['RTO Fixed Charge']\n",
        "    elif row['Type of Shipment'] == 'Forward charges':\n",
        "        return 0\n",
        "    else:\n",
        "        return None\n",
        "\n",
        "data['RTO_fixed_charge'] = data.apply(fixed_rto_charge, axis=1)"
      ],
      "metadata": {
        "id": "BBBCCdDR2ZZj"
      },
      "execution_count": 158,
      "outputs": []
    },
    {
      "cell_type": "markdown",
      "source": [
        "# Additional RTO charges for forward and rto order"
      ],
      "metadata": {
        "id": "ssnmoaVgBx6F"
      }
    },
    {
      "cell_type": "code",
      "source": [
        "\n",
        "def additional_rto_charge(row):\n",
        "    if row['Type of Shipment'] == 'Forward and RTO charges':\n",
        "        return math.floor(row['Total_Weight_by_X(kg)']/row['Weight Slabs'])*row['RTO Additional Weight Slab Charge']\n",
        "    elif row['Type of Shipment'] == 'Forward charges':\n",
        "        return 0\n",
        "    else:\n",
        "        return None\n",
        "\n",
        "data['RTO_additional_charge'] = data.apply(additional_rto_charge, axis=1)"
      ],
      "metadata": {
        "id": "zhJBjtoD2ZWZ"
      },
      "execution_count": 159,
      "outputs": []
    },
    {
      "cell_type": "markdown",
      "source": [
        "# Calculate total expected charge for delivery"
      ],
      "metadata": {
        "id": "6rX88tlzB0m7"
      }
    },
    {
      "cell_type": "markdown",
      "source": [],
      "metadata": {
        "id": "Aa6aCW6NB1QK"
      }
    },
    {
      "cell_type": "code",
      "source": [
        "\n",
        "data['Expected_charges'] = data['Forward Fixed Charge'] + data['Forward_additional_charge'] + data['RTO_fixed_charge'] + data['RTO_additional_charge']"
      ],
      "metadata": {
        "id": "Q3HAOD4t2ZTE"
      },
      "execution_count": 160,
      "outputs": []
    },
    {
      "cell_type": "markdown",
      "source": [
        "# Difference between expected and billed charges"
      ],
      "metadata": {
        "id": "0WlJ29DvB3rs"
      }
    },
    {
      "cell_type": "code",
      "source": [
        "\n",
        "data['diff_charges'] =  data['Expected_charges'] - data['Billing Amount (Rs.)']"
      ],
      "metadata": {
        "id": "UArxVEro2ZQL"
      },
      "execution_count": 161,
      "outputs": []
    },
    {
      "cell_type": "markdown",
      "source": [
        "# Add column weight slab charged by courier for output"
      ],
      "metadata": {
        "id": "CLZl8EvAB5s1"
      }
    },
    {
      "cell_type": "code",
      "source": [
        "\n",
        "\n",
        "data['Weight_slabs_Courier'] = data['Zone_by_Courier'].replace(to_replace=['a','b','c','d','e'],value=[0.25,0.5,0.75,1.25,1.5])"
      ],
      "metadata": {
        "id": "3ixFq7zs3BGq"
      },
      "execution_count": 162,
      "outputs": []
    },
    {
      "cell_type": "markdown",
      "source": [
        "# add column to check if courier company overcharged or undercharged"
      ],
      "metadata": {
        "id": "90zVASzFB8HW"
      }
    },
    {
      "cell_type": "code",
      "source": [
        "\n",
        "def is_correct(row):\n",
        "    if row['diff_charges'] == 0:\n",
        "        return 'X correctly charged'\n",
        "    elif row['diff_charges'] > 0:\n",
        "        return 'X Undercharged'\n",
        "    else:\n",
        "        return 'X Overcharged'\n",
        "data['over_or_under_charged'] = data.apply(is_correct,axis=1)"
      ],
      "metadata": {
        "id": "Oi7876d23BDC"
      },
      "execution_count": 163,
      "outputs": []
    },
    {
      "cell_type": "code",
      "source": [
        "data.columns"
      ],
      "metadata": {
        "colab": {
          "base_uri": "https://localhost:8080/"
        },
        "id": "uP8_SJKm3BAS",
        "outputId": "c60fd4d5-6a29-46b8-fda5-6f73251c80f1"
      },
      "execution_count": 164,
      "outputs": [
        {
          "output_type": "execute_result",
          "data": {
            "text/plain": [
              "Index(['ExternOrderNo', 'Total_Weight_by_X(kg)', 'AWB Code', 'Order ID',\n",
              "       'Charged Weight', 'Warehouse Pincode', 'Customer Pincode',\n",
              "       'Zone_by_Courier', 'Type of Shipment', 'Billing Amount (Rs.)',\n",
              "       'Zone_by_X', 'Zone', 'Weight Slabs', 'Forward Fixed Charge',\n",
              "       'Forward Additional Weight Slab Charge', 'RTO Fixed Charge',\n",
              "       'RTO Additional Weight Slab Charge', 'Forward_additional_charge',\n",
              "       'RTO_fixed_charge', 'RTO_additional_charge', 'Expected_charges',\n",
              "       'diff_charges', 'Weight_slabs_Courier', 'over_or_under_charged'],\n",
              "      dtype='object')"
            ]
          },
          "metadata": {},
          "execution_count": 164
        }
      ]
    },
    {
      "cell_type": "code",
      "source": [
        "output = data[['Order ID','AWB Code','Total_Weight_by_X(kg)','Weight Slabs','Charged Weight','Weight_slabs_Courier','Zone_by_X',\n",
        "               'Zone_by_Courier','Expected_charges','Billing Amount (Rs.)','diff_charges']]\n",
        "print(output)"
      ],
      "metadata": {
        "colab": {
          "base_uri": "https://localhost:8080/"
        },
        "id": "LJFP9dPT3A8G",
        "outputId": "7cb58cf0-a17f-4966-9ecc-df96315bf1ed"
      },
      "execution_count": 165,
      "outputs": [
        {
          "output_type": "stream",
          "name": "stdout",
          "text": [
            "       Order ID       AWB Code  Total_Weight_by_X(kg)  Weight Slabs  \\\n",
            "0    2001806210  1091117221940                  0.220           1.0   \n",
            "1    2001806226  1091117222065                  0.480           1.5   \n",
            "2    2001806229  1091117222080                  0.500           1.5   \n",
            "3    2001806232  1091117222124                  1.302           1.5   \n",
            "4    2001806233  1091117222135                  0.245           1.0   \n",
            "..          ...            ...                    ...           ...   \n",
            "119  2001821995  1091121183730                  0.477           1.0   \n",
            "120  2001822466  1091121305541                  1.376           1.0   \n",
            "121  2001823564  1091121666133                  0.672           1.5   \n",
            "122  2001825261  1091121981575                  1.557           1.5   \n",
            "123  2001827036  1091122418320                  1.676           2.0   \n",
            "\n",
            "     Charged Weight  Weight_slabs_Courier Zone_by_X Zone_by_Courier  \\\n",
            "0              2.92                  0.50         b               b   \n",
            "1              0.68                  1.25         d               d   \n",
            "2              0.71                  1.25         d               d   \n",
            "3              1.30                  1.25         d               d   \n",
            "4              0.78                  0.50         b               b   \n",
            "..              ...                   ...       ...             ...   \n",
            "119            0.50                  1.25         b               d   \n",
            "120            1.10                  1.25         b               d   \n",
            "121            0.70                  1.25         d               d   \n",
            "122            1.60                  1.25         d               d   \n",
            "123            1.60                  0.50         e               b   \n",
            "\n",
            "     Expected_charges  Billing Amount (Rs.)  diff_charges  \n",
            "0                33.0                 174.5        -141.5  \n",
            "1                45.4                  90.2         -44.8  \n",
            "2                45.4                  90.2         -44.8  \n",
            "3                45.4                 135.0         -89.6  \n",
            "4                33.0                  61.3         -28.3  \n",
            "..                ...                   ...           ...  \n",
            "119              33.0                  45.4         -12.4  \n",
            "120              61.3                 135.0         -73.7  \n",
            "121              86.7                 172.8         -86.1  \n",
            "122             176.3                 345.0        -168.7  \n",
            "123              56.6                 117.9         -61.3  \n",
            "\n",
            "[124 rows x 11 columns]\n"
          ]
        }
      ]
    },
    {
      "cell_type": "code",
      "source": [
        "summary = pd.DataFrame(index=['Total orders where X has been correctly charged'\n",
        "                              ,'Total Orders where X has been overcharged'\n",
        "                              ,'Total Orders where X has been undercharged'\n",
        "                             ], columns=['Count','Amount(Rs.)'])\n",
        "\n",
        "\n",
        "summary['Count'] = [(data['diff_charges']==0).sum(),\n",
        "                    (data['diff_charges']<0).sum(),\n",
        "                    (data['diff_charges']>0).sum()]\n",
        "\n",
        "summary['Amount(Rs.)'] = [data[data['diff_charges']==0]['Billing Amount (Rs.)'].sum()\n",
        "                          ,abs(data[data['diff_charges']<0]['diff_charges'].sum())\n",
        "                          ,data[data['diff_charges']>0]['diff_charges'].sum()]\n",
        "print(summary)"
      ],
      "metadata": {
        "colab": {
          "base_uri": "https://localhost:8080/"
        },
        "id": "qnqm3Sdp3A50",
        "outputId": "a385d8a9-8cea-4a5c-cc2c-1116127ce99d"
      },
      "execution_count": 167,
      "outputs": [
        {
          "output_type": "stream",
          "name": "stdout",
          "text": [
            "                                                 Count  Amount(Rs.)\n",
            "Total orders where X has been correctly charged      7        321.3\n",
            "Total Orders where X has been overcharged          114       7751.2\n",
            "Total Orders where X has been undercharged           3         47.2\n"
          ]
        }
      ]
    },
    {
      "cell_type": "code",
      "source": [
        "output.to_excel(\"/content/Output.xlsx\")\n",
        "summary.to_excel(\"/content/Summary.xlsx\")"
      ],
      "metadata": {
        "id": "yPK_UwD231dR"
      },
      "execution_count": 168,
      "outputs": []
    }
  ]
}